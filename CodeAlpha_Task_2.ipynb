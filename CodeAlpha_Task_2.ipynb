{
  "nbformat": 4,
  "nbformat_minor": 0,
  "metadata": {
    "colab": {
      "provenance": []
    },
    "kernelspec": {
      "name": "python3",
      "display_name": "Python 3"
    },
    "language_info": {
      "name": "python"
    }
  },
  "cells": [
    {
      "cell_type": "markdown",
      "source": [
        "### **CodeAlpha Task 2 - Hafiza Aunsa AD**"
      ],
      "metadata": {
        "id": "OsbGYa85T6aq"
      }
    },
    {
      "cell_type": "code",
      "execution_count": null,
      "metadata": {
        "colab": {
          "base_uri": "https://localhost:8080/"
        },
        "id": "dZZApma_6DuF",
        "outputId": "97dc063a-5402-4ff3-cc6f-b2dcc450016f"
      },
      "outputs": [
        {
          "output_type": "stream",
          "name": "stderr",
          "text": [
            "[nltk_data] Downloading package punkt to /root/nltk_data...\n",
            "[nltk_data]   Package punkt is already up-to-date!\n"
          ]
        },
        {
          "output_type": "stream",
          "name": "stdout",
          "text": [
            "Welcome! What topic or product would you like to ask about? (e.g., Electronics, Fashion)\n",
            "Topic/Product: technology\n",
            "Sorry, we don't have FAQs for this topic.\n"
          ]
        }
      ],
      "source": [
        "import nltk\n",
        "import spacy\n",
        "from sklearn.feature_extraction.text import TfidfVectorizer\n",
        "from sklearn.metrics.pairwise import cosine_similarity\n",
        "\n",
        "# Download necessary NLTK data\n",
        "nltk.download(\"punkt\")\n",
        "\n",
        "# Load SpaCy model for NLP processing\n",
        "nlp = spacy.load(\"en_core_web_sm\")\n",
        "\n",
        "# Predefined FAQ data for different topics\n",
        "faq_data = {\n",
        "    \"electronics\": {\n",
        "        \"What is the warranty period?\": \"The warranty period for most electronics is 1 year.\",\n",
        "        \"How do I reset my device?\": \"You can reset your device by holding the power button for 10 seconds.\",\n",
        "        \"What should I do if my device is not turning on?\": \"Try charging the device and performing a hard reset.\",\n",
        "        \"Can I extend my warranty?\": \"Yes, you can purchase an extended warranty at checkout.\",\n",
        "        \"Do you offer repair services?\": \"Yes, we provide repair services at our authorized centers.\"\n",
        "    },\n",
        "    \"fashion\": {\n",
        "        \"What sizes are available?\": \"We offer sizes from XS to XXL for most products.\",\n",
        "        \"How do I return an item?\": \"You can return an item within 30 days with the original packaging.\",\n",
        "        \"Do you offer custom tailoring?\": \"Yes, custom tailoring is available for select items.\",\n",
        "        \"What materials are used?\": \"Our clothes are made from high-quality cotton, silk, and wool.\",\n",
        "        \"Are there any discounts available?\": \"Yes, we frequently offer discounts during seasonal sales.\"\n",
        "    }\n",
        "}\n",
        "\n",
        "def get_faq_for_topic(topic):\n",
        "    \"\"\"Retrieve FAQs for a given topic.\"\"\"\n",
        "    return faq_data.get(topic.lower(), {})\n",
        "\n",
        "def get_best_response(user_query, faq_questions, faq_answers, vectorizer):\n",
        "    \"\"\"Finds the most relevant FAQ answer based on similarity.\"\"\"\n",
        "    if not faq_questions:\n",
        "        return \"Sorry, no FAQs available for this topic.\"\n",
        "\n",
        "    faq_vectors = vectorizer.fit_transform(faq_questions)\n",
        "    user_vector = vectorizer.transform([user_query])\n",
        "    similarities = cosine_similarity(user_vector, faq_vectors)\n",
        "    best_match_idx = similarities.argmax()\n",
        "    best_match_score = similarities[0, best_match_idx]\n",
        "\n",
        "    if best_match_score > 0.3:  # Threshold for relevant match\n",
        "        return faq_answers[best_match_idx]\n",
        "    else:\n",
        "        return \"Sorry, I couldn't find an answer to your question. Please contact support.\"\n",
        "\n",
        "# Chatbot loop\n",
        "def chatbot():\n",
        "    print(\"Welcome! What topic or product would you like to ask about? (e.g., Electronics, Fashion)\")\n",
        "    topic = input(\"Topic/Product: \").strip().lower()\n",
        "    faqs = get_faq_for_topic(topic)\n",
        "\n",
        "    if not faqs:\n",
        "        print(\"Sorry, we don't have FAQs for this topic.\")\n",
        "        return\n",
        "\n",
        "    faq_questions = list(faqs.keys())\n",
        "    faq_answers = list(faqs.values())\n",
        "    vectorizer = TfidfVectorizer()\n",
        "\n",
        "    print(f\"Great! You can now ask questions about {topic.capitalize()}.\")\n",
        "    print(\"Type 'exit' to end the chat.\")\n",
        "\n",
        "    while True:\n",
        "        user_input = input(\"You: \").strip()\n",
        "        if user_input.lower() == \"exit\":\n",
        "            print(\"Chatbot: Goodbye! Have a great day!\")\n",
        "            break\n",
        "        response = get_best_response(user_input, faq_questions, faq_answers, vectorizer)\n",
        "        print(f\"Chatbot: {response}\")\n",
        "\n",
        "if __name__ == \"__main__\":\n",
        "    chatbot()\n"
      ]
    }
  ]
}