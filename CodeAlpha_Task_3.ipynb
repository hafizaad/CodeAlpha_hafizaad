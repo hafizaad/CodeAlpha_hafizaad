{
  "nbformat": 4,
  "nbformat_minor": 0,
  "metadata": {
    "colab": {
      "provenance": []
    },
    "kernelspec": {
      "name": "python3",
      "display_name": "Python 3"
    },
    "language_info": {
      "name": "python"
    }
  },
  "cells": [
    {
      "cell_type": "markdown",
      "source": [
        "### **CodeAlpha Task 3 - Hafiza Aunsa AD - Generating Music**"
      ],
      "metadata": {
        "id": "9FuEwEoFVI35"
      }
    },
    {
      "cell_type": "code",
      "execution_count": null,
      "metadata": {
        "colab": {
          "base_uri": "https://localhost:8080/"
        },
        "id": "FIHvvmsw90sy",
        "outputId": "452ca998-4384-41fd-f9df-16d771c815f5"
      },
      "outputs": [
        {
          "output_type": "stream",
          "name": "stdout",
          "text": [
            "Requirement already satisfied: pretty_midi in /usr/local/lib/python3.11/dist-packages (0.2.10)\n",
            "Requirement already satisfied: numpy>=1.7.0 in /usr/local/lib/python3.11/dist-packages (from pretty_midi) (2.0.2)\n",
            "Requirement already satisfied: mido>=1.1.16 in /usr/local/lib/python3.11/dist-packages (from pretty_midi) (1.3.3)\n",
            "Requirement already satisfied: six in /usr/local/lib/python3.11/dist-packages (from pretty_midi) (1.17.0)\n",
            "Requirement already satisfied: packaging in /usr/local/lib/python3.11/dist-packages (from mido>=1.1.16->pretty_midi) (24.2)\n",
            "Epoch 0: D Loss: 1.3724843263626099, G Loss: 0.6805403232574463\n",
            "Epoch 500: D Loss: 0.06574980169534683, G Loss: 3.490666151046753\n",
            "Epoch 1000: D Loss: 0.007186220493167639, G Loss: 6.247939109802246\n",
            "Epoch 1500: D Loss: 0.011120513081550598, G Loss: 4.86834192276001\n",
            "Epoch 2000: D Loss: 0.000488320249132812, G Loss: 8.858254432678223\n",
            "Epoch 2500: D Loss: 0.00014059807290323079, G Loss: 9.303260803222656\n",
            "Epoch 3000: D Loss: 0.00015897653065621853, G Loss: 8.844026565551758\n",
            "Epoch 3500: D Loss: 9.668324491940439e-05, G Loss: 9.401281356811523\n",
            "Epoch 4000: D Loss: 0.0008126571774482727, G Loss: 9.1934814453125\n",
            "Epoch 4500: D Loss: 0.00011955638183280826, G Loss: 9.065850257873535\n",
            "MIDI file saved as generated_music.mid\n"
          ]
        }
      ],
      "source": [
        "import torch\n",
        "import torch.nn as nn\n",
        "import torch.optim as optim\n",
        "import numpy as np\n",
        "!pip install pretty_midi\n",
        "import pretty_midi\n",
        "\n",
        "# Generator Model\n",
        "def generate_noise(batch_size, latent_dim):\n",
        "    return torch.randn(batch_size, latent_dim)\n",
        "\n",
        "class Generator(nn.Module):\n",
        "    def __init__(self, latent_dim, output_dim):\n",
        "        super(Generator, self).__init__()\n",
        "        self.model = nn.Sequential(\n",
        "            nn.Linear(latent_dim, 256),\n",
        "            nn.ReLU(),\n",
        "            nn.Linear(256, 512),\n",
        "            nn.ReLU(),\n",
        "            nn.Linear(512, output_dim),\n",
        "            nn.Tanh()\n",
        "        )\n",
        "\n",
        "    def forward(self, z):\n",
        "        return self.model(z)\n",
        "\n",
        "# Discriminator Model\n",
        "class Discriminator(nn.Module):\n",
        "    def __init__(self, input_dim):\n",
        "        super(Discriminator, self).__init__()\n",
        "        self.model = nn.Sequential(\n",
        "            nn.Linear(input_dim, 512),\n",
        "            nn.LeakyReLU(0.2),\n",
        "            nn.Linear(512, 256),\n",
        "            nn.LeakyReLU(0.2),\n",
        "            nn.Linear(256, 1),\n",
        "            nn.Sigmoid()\n",
        "        )\n",
        "\n",
        "    def forward(self, x):\n",
        "        return self.model(x)\n",
        "\n",
        "# Training Settings\n",
        "latent_dim = 100\n",
        "output_dim = 50  # Sequence length (e.g., 50 MIDI notes)\n",
        "batch_size = 32\n",
        "epochs = 5000\n",
        "\n",
        "# Models\n",
        "generator = Generator(latent_dim, output_dim)\n",
        "discriminator = Discriminator(output_dim)\n",
        "\n",
        "g_optimizer = optim.Adam(generator.parameters(), lr=0.0002)\n",
        "d_optimizer = optim.Adam(discriminator.parameters(), lr=0.0002)\n",
        "criterion = nn.BCELoss()\n",
        "\n",
        "# Training Loop\n",
        "for epoch in range(epochs):\n",
        "    # Generate Random Data\n",
        "    noise = generate_noise(batch_size, latent_dim)\n",
        "    fake_data = generator(noise)\n",
        "    real_data = torch.randn(batch_size, output_dim)  # Placeholder for real MIDI data\n",
        "\n",
        "    # Train Discriminator\n",
        "    d_optimizer.zero_grad()\n",
        "    real_preds = discriminator(real_data)\n",
        "    fake_preds = discriminator(fake_data.detach())\n",
        "\n",
        "    real_loss = criterion(real_preds, torch.ones_like(real_preds))\n",
        "    fake_loss = criterion(fake_preds, torch.zeros_like(fake_preds))\n",
        "    d_loss = real_loss + fake_loss\n",
        "    d_loss.backward()\n",
        "    d_optimizer.step()\n",
        "\n",
        "    # Train Generator\n",
        "    g_optimizer.zero_grad()\n",
        "    fake_preds = discriminator(fake_data)\n",
        "    g_loss = criterion(fake_preds, torch.ones_like(fake_preds))\n",
        "    g_loss.backward()\n",
        "    g_optimizer.step()\n",
        "\n",
        "    if epoch % 500 == 0:\n",
        "        print(f\"Epoch {epoch}: D Loss: {d_loss.item()}, G Loss: {g_loss.item()}\")\n",
        "\n",
        "# Generate MIDI File\n",
        "def generate_midi(generator, filename=\"generated_music.mid\"):\n",
        "    generator.eval()\n",
        "    noise = generate_noise(1, latent_dim)\n",
        "    midi_data = generator(noise).detach().numpy().flatten()\n",
        "    midi = pretty_midi.PrettyMIDI()\n",
        "    instrument = pretty_midi.Instrument(program=0)\n",
        "\n",
        "    start = 0\n",
        "    for note_value in midi_data:\n",
        "        pitch = int((note_value + 1) * 60)  # Scale to MIDI range\n",
        "        note = pretty_midi.Note(velocity=101, pitch=pitch, start=start, end=start + 0.5)\n",
        "        instrument.notes.append(note)\n",
        "        start += 0.5\n",
        "\n",
        "    midi.instruments.append(instrument)\n",
        "    midi.write(filename)\n",
        "    print(f\"MIDI file saved as {filename}\")\n",
        "\n",
        "# Generate and Save Music\n",
        "generate_midi(generator)"
      ]
    }
  ]
}